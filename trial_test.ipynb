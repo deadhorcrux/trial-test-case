{
 "cells": [
  {
   "cell_type": "code",
   "execution_count": 180,
   "id": "62b64c86-205c-48e0-a8cc-69fa535a15cf",
   "metadata": {
    "tags": []
   },
   "outputs": [],
   "source": [
    "import pandas as pd\n",
    "\n",
    "from sklearn.feature_extraction.text import TfidfVectorizer\n",
    "from sklearn.metrics.pairwise import linear_kernel\n",
    "\n",
    "from nltk.stem.snowball import SnowballStemmer\n",
    "\n",
    "import warnings; warnings.simplefilter('ignore')"
   ]
  },
  {
   "cell_type": "code",
   "execution_count": 31,
   "id": "ff609b48-76a2-42ef-bf42-01dae1316cf0",
   "metadata": {
    "tags": []
   },
   "outputs": [],
   "source": [
    "standardised_phrases = pd.read_csv('./Standardised terms.csv', header=None, names=['phrases'])"
   ]
  },
  {
   "cell_type": "code",
   "execution_count": 127,
   "id": "62e7c3b5-467b-4595-8551-b01dfed6d857",
   "metadata": {
    "tags": []
   },
   "outputs": [],
   "source": [
    "with open('sample_text.txt') as f:\n",
    "    text = f.readlines()\n",
    "#text = ' '.join(str(i) for i in text) "
   ]
  },
  {
   "cell_type": "code",
   "execution_count": 128,
   "id": "2976f377-6ca8-4406-9798-be69153856f7",
   "metadata": {
    "tags": []
   },
   "outputs": [],
   "source": [
    "stemmer = SnowballStemmer('english')\n",
    "text[0] = stemmer.stem(text[0])"
   ]
  },
  {
   "cell_type": "code",
   "execution_count": 144,
   "id": "fc61d185-b940-4ce4-976e-f69aaa4ded2e",
   "metadata": {
    "tags": []
   },
   "outputs": [],
   "source": [
    "df = pd.DataFrame(text, columns=['phrases'])"
   ]
  },
  {
   "cell_type": "code",
   "execution_count": 145,
   "id": "9bd7cb19-4efc-4a4a-80cb-a3cf626d2f6a",
   "metadata": {
    "tags": []
   },
   "outputs": [],
   "source": [
    "df = pd.concat([df, standardised_phrases], axis=0)"
   ]
  },
  {
   "cell_type": "code",
   "execution_count": 130,
   "id": "680afa5f-bd88-489e-9ae9-b3cfacd1c1c1",
   "metadata": {
    "tags": []
   },
   "outputs": [],
   "source": [
    "tfidf = TfidfVectorizer(analyzer='word',ngram_range=(1,2),min_df=0, stop_words='english')"
   ]
  },
  {
   "cell_type": "code",
   "execution_count": 152,
   "id": "486475cc-50a4-40a6-a782-f523e7c58e62",
   "metadata": {
    "tags": []
   },
   "outputs": [],
   "source": [
    "tfidf_matrix = tfidf.fit_transform(df['phrases'])"
   ]
  },
  {
   "cell_type": "code",
   "execution_count": 153,
   "id": "51f6a190-ba65-44b1-b54b-1b62650a581f",
   "metadata": {
    "tags": []
   },
   "outputs": [],
   "source": [
    "sim = linear_kernel(tfidf_matrix, tfidf_matrix)"
   ]
  },
  {
   "cell_type": "code",
   "execution_count": 172,
   "id": "eaf688e1-d129-4dd7-b283-65eaabcf3428",
   "metadata": {
    "tags": []
   },
   "outputs": [
    {
     "data": {
      "text/plain": [
       "array([1.        , 0.03207412, 0.        , 0.        , 0.        ,\n",
       "       0.        , 0.        , 0.        , 0.        , 0.        ,\n",
       "       0.03824276, 0.        , 0.        , 0.        , 0.        ,\n",
       "       0.03824276, 0.        , 0.02418084, 0.        , 0.        ,\n",
       "       0.        ])"
      ]
     },
     "execution_count": 172,
     "metadata": {},
     "output_type": "execute_result"
    }
   ],
   "source": [
    "sim[0]"
   ]
  },
  {
   "cell_type": "code",
   "execution_count": 165,
   "id": "ab1eed31-2603-41f7-baf2-1f2e398726de",
   "metadata": {
    "tags": []
   },
   "outputs": [],
   "source": [
    "phrases = df['phrases']"
   ]
  },
  {
   "cell_type": "code",
   "execution_count": 178,
   "id": "4f1af198-7174-47fc-bb15-de552e60c480",
   "metadata": {
    "tags": []
   },
   "outputs": [],
   "source": [
    "def get_similitary_phrases():\n",
    "    idx = 0\n",
    "    sim_scores = list(enumerate(sim[idx]))\n",
    "    sim_scores = sorted(sim_scores, key=lambda x: x[1], reverse=True)\n",
    "    sim_scores = [score for score in sim_scores if score[1] > 0]\n",
    "    name_indices = [i[0] for i in sim_scores]\n",
    "    return phrases.iloc[name_indices[1:]]"
   ]
  },
  {
   "cell_type": "code",
   "execution_count": 179,
   "id": "57fde898-b981-4d80-b72a-feb8603e090a",
   "metadata": {
    "tags": []
   },
   "outputs": [
    {
     "data": {
      "text/plain": [
       "9                    Drive growth\n",
       "14               Prioritise tasks\n",
       "0             Optimal performance\n",
       "16    Monitor performance metrics\n",
       "Name: phrases, dtype: object"
      ]
     },
     "execution_count": 179,
     "metadata": {},
     "output_type": "execute_result"
    }
   ],
   "source": [
    "get_similitary_phrases()"
   ]
  }
 ],
 "metadata": {
  "kernelspec": {
   "display_name": "Python 3 (ipykernel)",
   "language": "python",
   "name": "python3"
  },
  "language_info": {
   "codemirror_mode": {
    "name": "ipython",
    "version": 3
   },
   "file_extension": ".py",
   "mimetype": "text/x-python",
   "name": "python",
   "nbconvert_exporter": "python",
   "pygments_lexer": "ipython3",
   "version": "3.10.12"
  }
 },
 "nbformat": 4,
 "nbformat_minor": 5
}
